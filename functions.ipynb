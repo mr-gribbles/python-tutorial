{
 "cells": [
  {
   "cell_type": "markdown",
   "id": "d76bf776",
   "metadata": {},
   "source": [
    "# INTRODUCTION TO PYTHON\n",
    "## Functions\n",
    "\n",
    "One of the main things you will be using within python is functions\n",
    "\n",
    "These are like the package function calls you've alreadly learnt about but this time you'll have to build them yourself.\n",
    "\n",
    "Below I'll define a function and we can walk through all the parts of it together:"
   ]
  },
  {
   "cell_type": "code",
   "execution_count": 2,
   "id": "f82a9099",
   "metadata": {},
   "outputs": [],
   "source": [
    "def calculate_area(width, height=1):\n",
    "    area = width * height\n",
    "    return area\n"
   ]
  },
  {
   "cell_type": "markdown",
   "id": "2e610467",
   "metadata": {},
   "source": [
    "The function above is a simple one that calculates the area of a rectangle.\n",
    "\n",
    "When we break down first line of the function code the first thing we come across is the `def` command. This stands for define and states the name of the function, in this case `calculate_area` this will be the name used to call the function when we want to use it. \n",
    "\n",
    "Within the brackets is the arguments of the function that need to be parsed through to the function. You can treat these as temporary variables (we call them local variables); their values will only be stored while that function is running. In this function for area we need the width and height of the rectangle. If simply a name is stated, like for `width` then the function will not run without that argument. In the case of `height=1` we set the default value of height to be 1. So if no arg is called in this place, it will still run and use the default value. \n",
    "\n",
    "The next line is the contents of our function. It is a simple calculation of the area using our predefined variables. Note that the `area` varaible is also a local variable and wont be saved outside of this function.\n",
    "\n",
    "This means to get a value out of our function we use the `return` command, which will return the value of the local variable `area`.\n",
    "\n",
    "Below is a example of how to call our function:\n",
    "\n",
    "\n"
   ]
  },
  {
   "cell_type": "code",
   "execution_count": null,
   "id": "9841558f",
   "metadata": {},
   "outputs": [
    {
     "name": "stdout",
     "output_type": "stream",
     "text": [
      "5\n",
      "50\n"
     ]
    }
   ],
   "source": [
    "area1 = calculate_area(5)\n",
    "area2 = calculate_area(5, 10)\n",
    "print(area1)\n",
    "print(area2)\n"
   ]
  },
  {
   "cell_type": "markdown",
   "id": "991470b3",
   "metadata": {},
   "source": [
    "If there are multiple variables with a default value and you only want to define values for a subset of them then we can be more specific when calling our function by using the specific names for these arguments.\n",
    "\n",
    "See an example below:"
   ]
  },
  {
   "cell_type": "code",
   "execution_count": 5,
   "id": "6a438909",
   "metadata": {},
   "outputs": [
    {
     "name": "stdout",
     "output_type": "stream",
     "text": [
      "10.0\n",
      "15.0\n"
     ]
    }
   ],
   "source": [
    "def calculate_area_triangle(width=3, height=4):\n",
    "    area = 0.5 * width * height\n",
    "    return area\n",
    "\n",
    "area1 = calculate_area_triangle(width=5)\n",
    "area2 = calculate_area_triangle(height=10)\n",
    "\n",
    "print(area1)\n",
    "print(area2)"
   ]
  },
  {
   "cell_type": "markdown",
   "id": "03d3d6b6",
   "metadata": {},
   "source": [
    "It is general good practice to add a docstring to a function. This helps you and others using your code to understand what a function is doing. It also should mention what the input arguments are and what it returns.\n",
    "\n",
    "We make a docstring by using three sets of quotation marks like: \"\"\"docstring text\"\"\"\n",
    "\n",
    "Below is an example using our `calculate_area()` function:"
   ]
  },
  {
   "cell_type": "code",
   "execution_count": null,
   "id": "564c7d8d",
   "metadata": {},
   "outputs": [],
   "source": [
    "def calculate_area(width, height=1):\n",
    "    \"\"\"\n",
    "    Calculate the area of a rectangle.\n",
    "    Args:\n",
    "        width (float): The width of the rectangle.\n",
    "        height (float, optional): The height of the rectangle. Defaults to 1.\n",
    "    Returns:\n",
    "        float: The area of the rectangle.\n",
    "    \"\"\"\n",
    "    area = width * height\n",
    "    return area\n"
   ]
  },
  {
   "cell_type": "markdown",
   "id": "1e039aee",
   "metadata": {},
   "source": [
    "Not all functions will utilise the `return` command, some may simply print something to console.\n",
    "\n",
    "#### Hopefully this section has helped you learn about making functions in Python"
   ]
  }
 ],
 "metadata": {
  "kernelspec": {
   "display_name": "base",
   "language": "python",
   "name": "python3"
  },
  "language_info": {
   "codemirror_mode": {
    "name": "ipython",
    "version": 3
   },
   "file_extension": ".py",
   "mimetype": "text/x-python",
   "name": "python",
   "nbconvert_exporter": "python",
   "pygments_lexer": "ipython3",
   "version": "3.13.5"
  }
 },
 "nbformat": 4,
 "nbformat_minor": 5
}
