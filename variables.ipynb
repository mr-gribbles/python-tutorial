{
 "cells": [
  {
   "cell_type": "markdown",
   "id": "7328f94a",
   "metadata": {},
   "source": [
    "# INTRODUCTION TO PYTHON\n",
    "## Variables\n",
    "A variable can basically be anything, it is just a object that is saved in memory and can be later recalled.\n",
    "\n",
    "To define a variable we just use an `=` and a variable name,\n",
    "\n",
    "Check below for an example:"
   ]
  },
  {
   "cell_type": "code",
   "execution_count": null,
   "id": "baee4679",
   "metadata": {},
   "outputs": [],
   "source": [
    "variable_a = 4\n",
    "print(variable_a)"
   ]
  },
  {
   "cell_type": "markdown",
   "id": "8b265730",
   "metadata": {},
   "source": [
    "You can see that we are able to recall this variable within a print function to get its assigned value."
   ]
  },
  {
   "cell_type": "markdown",
   "id": "739feaf7",
   "metadata": {},
   "source": [
    "### Variable Types\n",
    "\n",
    "Variables will all have different types that they are saved as, for example the `variable_a` we just defined is a integer.\n",
    "\n",
    "You can check what type a variable is by including it within the `type()` fucntion as seen below."
   ]
  },
  {
   "cell_type": "code",
   "execution_count": null,
   "id": "fec8964c",
   "metadata": {},
   "outputs": [],
   "source": [
    "type(variable_a)"
   ]
  },
  {
   "cell_type": "markdown",
   "id": "a978b8d8",
   "metadata": {},
   "source": [
    "#### Here is a list of commonly used types:\n",
    "* Numbers\n",
    "  * Integer or int: Whole number such as 2 or 10\n",
    "  * Float: Any real number, that is to say a number with a decimal, such as 4.3 or 1.0023\n",
    "  * Complex: Complex number that includes an imaginary part, such as 8j or 2i\n",
    "* Text\n",
    "  * String or str: Just a section of text, defined between either \"\" or ''\n",
    "* Sequences\n",
    "  * List: a list of objects, can be of any combination of types. List is defined within [] and objects are seperated by commas. For example: [2, \"Hello\", 6.7]\n",
    "  * Tuple: like a list except cannot be modified. Will cover this later. Defined within ()\n",
    "  * Dictonary: like a list except each object has a unique identifier. Defined within {}, object names and values seperated by : and entries seperated by commas. For example {\"name\": \"Georgia\", \"age\": 23}\n",
    "* Binary\n",
    "  * Boolean or Bool: Can either be True or False\n",
    "* Empty objects\n",
    "  * Sequences: if you want to define any of the sequence types for later use you can just create an empty one. For example if you wanted to create an empty list you would: list = []\n",
    "  * None: not too commonly used but for anything else you can deine the varibale as a none type which is empty and could become any type. Defined as object = None\n",
    "\n",
    "\n"
   ]
  },
  {
   "cell_type": "markdown",
   "id": "d8f37683",
   "metadata": {},
   "source": [
    "### Looking through Sequences\n",
    "\n",
    "While we can look at sequences as a whole in the same way as other object types, we often want to grab specific values from the object. \n",
    "\n",
    "For lists and tuples it is quite simple, to grab the value of a specific item from these we simply use the format `list_name[0]`. Note that in python the first index is always 0, so that command would give the first item in the list. Furthermore if you want to go from the back of the list, use negative values, so -1 would be the last item in a list, -2 second last and so on. \n",
    "\n",
    "If you instead want to see what index a specific value is in we use the `.index()`\n",
    "\n",
    "You can see examples of these in use below:"
   ]
  },
  {
   "cell_type": "code",
   "execution_count": 45,
   "id": "7a334d6b",
   "metadata": {},
   "outputs": [
    {
     "name": "stdout",
     "output_type": "stream",
     "text": [
      "1\n",
      "3\n",
      "2\n",
      "0\n"
     ]
    }
   ],
   "source": [
    "my_list = [1, 2, 3, 4]\n",
    "my_tuple = (1, 2, 3, 4)\n",
    "print(my_list[0])\n",
    "print(my_tuple[2])\n",
    "print(my_list.index(3))\n",
    "print(my_tuple.index(1))\n"
   ]
  },
  {
   "cell_type": "markdown",
   "id": "4af93ca4",
   "metadata": {},
   "source": [
    "This process is basically the same for dictionaries, however instead of using the index in the square brackes we instead use the entry name.\n",
    "\n",
    "Check an example below:"
   ]
  },
  {
   "cell_type": "code",
   "execution_count": 46,
   "id": "ef7cad3d",
   "metadata": {},
   "outputs": [
    {
     "name": "stdout",
     "output_type": "stream",
     "text": [
      "Georgia\n",
      "23\n",
      "5.1\n"
     ]
    }
   ],
   "source": [
    "my_dict = {\"name\": \"Georgia\", \"age\": 23, \"height\": 5.1}\n",
    "print(my_dict[\"name\"])\n",
    "print(my_dict[\"age\"])\n",
    "print(my_dict[\"height\"])"
   ]
  },
  {
   "cell_type": "markdown",
   "id": "3b09dcd8",
   "metadata": {},
   "source": [
    "### Object Manipulation\n",
    "\n",
    "Certain object can become different objects if they meet the requirments. For example we can convert easily between any of our number types between each other, with some limitations. Any float converted to an integer will be rounded down to the nearest whole number and a complex number cannot be converted to a integer or float."
   ]
  },
  {
   "cell_type": "code",
   "execution_count": null,
   "id": "79dc112f",
   "metadata": {},
   "outputs": [],
   "source": [
    "variable_b = 3.2\n",
    "print(int(variable_b))\n",
    "print(complex(variable_b))\n",
    "print(str(variable_b))"
   ]
  },
  {
   "cell_type": "markdown",
   "id": "d0bdbe36",
   "metadata": {},
   "source": [
    "We can also convert numbers to strings and vice versa, although this also has some requirements. The string being converted to a number type must just contain a number. If it contains anything that is not a number it will simply raise an error like you can see below."
   ]
  },
  {
   "cell_type": "code",
   "execution_count": null,
   "id": "1f906f41",
   "metadata": {},
   "outputs": [],
   "source": [
    "print(str(variable_b))\n",
    "variable_c = \"6.8\"\n",
    "print(float(variable_c))\n",
    "variable_d = \"6.8 Hello World\"\n",
    "print(float(variable_d))"
   ]
  },
  {
   "cell_type": "markdown",
   "id": "65bc9422",
   "metadata": {},
   "source": [
    "Apart from a tuple we can also add and remove items from a list or dictonary using certain commands.\n",
    "\n",
    "To add an item to a list we can use the `.append()` command which will add the item to the end of the list.\n",
    "\n",
    "To remove an item from a list we use the `.remove()` command. This will remove the item by value. To remove the item by index, i.e the position it is in the list we use the `.pop()` command. Remeber that the index for everything starts at 0.\n",
    "\n",
    "If you would like to change the value at a certain index that can be done similarly to how we previously inspected the value but this time with an `=`, such as `list_name[index] = 7`. This would change the value at this index to 7\n",
    "\n",
    "Examples are shown below:\n"
   ]
  },
  {
   "cell_type": "code",
   "execution_count": 49,
   "id": "a94be972",
   "metadata": {},
   "outputs": [
    {
     "name": "stdout",
     "output_type": "stream",
     "text": [
      "[1, 2, 3, 4]\n",
      "[1, 3, 4]\n",
      "[3, 4]\n",
      "[7, 4]\n"
     ]
    }
   ],
   "source": [
    "my_list = [1, 2, 3]\n",
    "my_list.append(4)\n",
    "print(my_list)\n",
    "my_list.remove(2)\n",
    "print(my_list)\n",
    "my_list.pop(0)\n",
    "print(my_list)\n",
    "my_list[0] = 7\n",
    "print(my_list)"
   ]
  },
  {
   "cell_type": "markdown",
   "id": "b7ad31b1",
   "metadata": {},
   "source": [
    "For a dictonary it varies slightly. We add and change an item in the same way. \n",
    "\n",
    "Using the format `dict_name[key] = 8` if the unique key alreadly exists then it will change the value to the new one, otherwise it will create a new entry with that key as its identifier. To remove an item by key we once again use the `.pop()` command. We can also use the `.popitem()` command to remove the last added item to the dictionary.\n",
    "\n",
    "See the examples below:"
   ]
  },
  {
   "cell_type": "code",
   "execution_count": 52,
   "id": "3db7a6a5",
   "metadata": {},
   "outputs": [
    {
     "name": "stdout",
     "output_type": "stream",
     "text": [
      "{'name': 'Georgia', 'age': 22, 'height': 5.1}\n",
      "{'name': 'Georgia', 'age': 23, 'height': 5.1}\n",
      "{'name': 'Georgia', 'age': 23, 'height': 5.1, 'Job': True}\n",
      "{'name': 'Georgia', 'age': 23, 'Job': True}\n"
     ]
    }
   ],
   "source": [
    "my_dict = {\"name\": \"Georgia\", \"age\": 22, \"height\": 5.1}\n",
    "print(my_dict)\n",
    "my_dict[\"age\"] = 23\n",
    "print(my_dict)\n",
    "my_dict[\"Job\"] = True\n",
    "print(my_dict)\n",
    "my_dict.pop(\"height\")\n",
    "print(my_dict)"
   ]
  },
  {
   "cell_type": "markdown",
   "id": "eed5568e",
   "metadata": {},
   "source": [
    "#### Hopefully this sectioned has helped you learn about variable types in Python"
   ]
  }
 ],
 "metadata": {
  "kernelspec": {
   "display_name": "base",
   "language": "python",
   "name": "python3"
  },
  "language_info": {
   "codemirror_mode": {
    "name": "ipython",
    "version": 3
   },
   "file_extension": ".py",
   "mimetype": "text/x-python",
   "name": "python",
   "nbconvert_exporter": "python",
   "pygments_lexer": "ipython3",
   "version": "3.13.5"
  }
 },
 "nbformat": 4,
 "nbformat_minor": 5
}
