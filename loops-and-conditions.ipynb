{
 "cells": [
  {
   "cell_type": "markdown",
   "id": "705bb139",
   "metadata": {},
   "source": [
    "# INTRODUCTION TO PYTHON\n",
    "## Loops and Conditions\n",
    "\n",
    "Loops are often used to iterate through a section of code until certain conditions of code.\n",
    "\n",
    "### For Loops\n",
    "\n",
    "The first loop we will look at is a for loop. This is usally used to iterate through a sequence type, utilising the values of each index.\n",
    "\n",
    "The section of code below is a basic implimentation of a for loop."
   ]
  },
  {
   "cell_type": "code",
   "execution_count": null,
   "id": "cd5b24ca",
   "metadata": {},
   "outputs": [],
   "source": [
    "my_list = [1, 2, 3, 4]\n",
    "\n",
    "for item in my_list:\n",
    "    print(item)\n",
    "    "
   ]
  },
  {
   "cell_type": "markdown",
   "id": "99dc9dea",
   "metadata": {},
   "source": [
    "You can see the structure of a for loop above. In this example `item` is the name of the variable that will be updated as it works through the list, printing the values of the list one by one. Keep note of the structure of the loop, it will always be `for variable in sequence:` (dont forget the colon). \n",
    "\n",
    "It is the same structure for a dictionary, however it will only by default pull the key as the variable. If we use `dictionary.values()` we can grab the values of the dictionary. If we want to pull both then we use `dictionary.items()` instead with two variables in the for loop, such as `for key, value in dictionary.items():`\n",
    "\n",
    "Check out the examples below:"
   ]
  },
  {
   "cell_type": "code",
   "execution_count": 14,
   "id": "f0eb3814",
   "metadata": {},
   "outputs": [
    {
     "name": "stdout",
     "output_type": "stream",
     "text": [
      "name\n",
      "age\n",
      "height\n",
      "Georgia\n",
      "23\n",
      "5.1\n",
      "name: Georgia\n",
      "age: 23\n",
      "height: 5.1\n"
     ]
    }
   ],
   "source": [
    "my_dict = {\"name\": \"Georgia\", \"age\": 23, \"height\": 5.1}\n",
    "\n",
    "for key in my_dict:\n",
    "    print(key)\n",
    "\n",
    "for value in my_dict.values():\n",
    "    print(value)\n",
    "\n",
    "for key, value in my_dict.items():\n",
    "    print(f\"{key}: {value}\")"
   ]
  },
  {
   "cell_type": "markdown",
   "id": "ae32c360",
   "metadata": {},
   "source": [
    "### While Loops \n",
    "\n",
    "A while loop differs somewhat in that it loops until a certain requirement is met.\n",
    "\n",
    "The section of code below is a basic implimentation of a while loop."
   ]
  },
  {
   "cell_type": "code",
   "execution_count": 12,
   "id": "87f1767e",
   "metadata": {},
   "outputs": [
    {
     "name": "stdout",
     "output_type": "stream",
     "text": [
      "4\n",
      "3\n",
      "2\n",
      "1\n"
     ]
    }
   ],
   "source": [
    "my_list = [1, 2, 3, 4]\n",
    "\n",
    "while len(my_list) > 0:\n",
    "    print(my_list.pop())"
   ]
  },
  {
   "cell_type": "markdown",
   "id": "a2aadc15",
   "metadata": {},
   "source": [
    "The loop above simply loops while the length or `len` of the list is greater than 0. The contents of the loop removes the last item from the list and prints it. So it loops through four times then ends.\n",
    "\n",
    "Below is a different implimentation if you are after a loop that runs for a specific number of loops:"
   ]
  },
  {
   "cell_type": "code",
   "execution_count": 15,
   "id": "25bf6bac",
   "metadata": {},
   "outputs": [
    {
     "name": "stdout",
     "output_type": "stream",
     "text": [
      "0\n",
      "1\n",
      "2\n",
      "3\n"
     ]
    }
   ],
   "source": [
    "i = 0\n",
    "while i < 4:\n",
    "    print(i)\n",
    "    i += 1"
   ]
  },
  {
   "cell_type": "markdown",
   "id": "e80efa96",
   "metadata": {},
   "source": [
    "### If statements\n",
    "\n",
    "While not being specifically a loop, an if statement is similar to a while loop in that it only occurs if the statement is met.\n",
    "\n",
    "The section below is a basic implimentation of a if statement:"
   ]
  },
  {
   "cell_type": "code",
   "execution_count": 16,
   "id": "7a230632",
   "metadata": {},
   "outputs": [
    {
     "name": "stdout",
     "output_type": "stream",
     "text": [
      "Goodbye\n"
     ]
    }
   ],
   "source": [
    "variable_a = 4\n",
    "\n",
    "if variable_a < 2:\n",
    "    print(\"Hello\")\n",
    "\n",
    "if variable_a > 2:\n",
    "    print(\"Goodbye\")"
   ]
  },
  {
   "cell_type": "markdown",
   "id": "5ec8b8d5",
   "metadata": {},
   "source": [
    "You can see that only the second if statement printed to console as the variable met the requirements of the if statement\n",
    "\n",
    "#### Hopefully this section has helped you learn about loops and conditional statements in Python"
   ]
  }
 ],
 "metadata": {
  "kernelspec": {
   "display_name": "base",
   "language": "python",
   "name": "python3"
  },
  "language_info": {
   "codemirror_mode": {
    "name": "ipython",
    "version": 3
   },
   "file_extension": ".py",
   "mimetype": "text/x-python",
   "name": "python",
   "nbconvert_exporter": "python",
   "pygments_lexer": "ipython3",
   "version": "3.13.5"
  }
 },
 "nbformat": 4,
 "nbformat_minor": 5
}
