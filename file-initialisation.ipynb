{
 "cells": [
  {
   "cell_type": "markdown",
   "id": "e7c98dc7",
   "metadata": {},
   "source": [
    "# INTRODUCTION TO PYTHON\n",
    "## File Initialisation\n",
    "\n",
    "In general, the first step when creating a python file is to create our global enviroment. The global enviroment is items, packages, etc that can be used by any function or command call in the file.\n",
    "\n",
    "### Importing Packages\n",
    "\n",
    "The top of a python file is where we import our packages, these are functions that other people have made in order to simplify the coding process.\n",
    "\n",
    "For example, the `math` package allows us to perform mathmatical processes in simplier terms. If you look at the code below you can see that something as simple as calculating the square root of a number can take quite a few lines of code."
   ]
  },
  {
   "cell_type": "code",
   "execution_count": null,
   "id": "96bd551f",
   "metadata": {},
   "outputs": [],
   "source": [
    "def square_root(x, tolerance=1e-10, max_iterations=1000):\n",
    "    if x < 0:\n",
    "        raise ValueError(\"Cannot compute square root of a negative number\")\n",
    "    \n",
    "    guess = x / 2.0  \n",
    "    \n",
    "    for _ in range(max_iterations):\n",
    "        new_guess = 0.5 * (guess + x / guess)\n",
    "        \n",
    "        if abs(new_guess - guess) < tolerance:\n",
    "            return new_guess\n",
    "        \n",
    "        guess = new_guess\n",
    "    \n",
    "    return guess\n",
    "\n",
    "print(square_root(16))\n",
    "print(square_root(36))\n",
    "print(square_root(100))\n"
   ]
  },
  {
   "cell_type": "markdown",
   "id": "c5f2cbd0",
   "metadata": {},
   "source": [
    "Now look what happens when we import the basic python package `math`. It has its own square root function that we can easily call in one short line to achieve the same results. \n",
    "\n",
    "To do this we first use the command `import` then the name of the package. Then when we want to call a function from that package we use the format `package_name.fucntion_name()`. The brackets will contain the arguments that will be parsed in the function. \n",
    "\n",
    "If you are using VS code, hover over the function name with your mouse and it will gve you a description of what is required.\n",
    "\n",
    "In this case we will use `math.sqrt()`. We contain this function within the `print()` function to outut what the function returns directly to the console. "
   ]
  },
  {
   "cell_type": "code",
   "execution_count": null,
   "id": "b8a3896e",
   "metadata": {},
   "outputs": [],
   "source": [
    "import math\n",
    "\n",
    "print(math.sqrt(16))\n",
    "print(math.sqrt(36))\n",
    "print(math.sqrt(100))"
   ]
  },
  {
   "cell_type": "markdown",
   "id": "0b6828f8",
   "metadata": {},
   "source": [
    "### Installing Packages\n",
    "\n",
    "Now `math` is an inbuilt python package that can be simply called upon for any python file without installing. However, most of the packages you will be using are from external sources. This means you must install the packages first. \n",
    "\n",
    "While not necessary, it is general good practice to install these packages into what is called a virtual environment. This stop confilicts between many packages which can require different versions of eachother to properly function. \n",
    "\n",
    "The first line of code below will create a folder in your working directory called `.venv` which can be used to install packages into. The second line activates the virtual environment. Once the folder is created via the first line, every time you enter the codebase you will need to use the second line to activate the environment. I will show you how to set up VS Code so that it performs this automatically.\n",
    "\n",
    "Note that these are lines that you enter into the terminal, they will not work in your python file itself. \n",
    "\n",
    "I would either remeber these lines of code, or keep them handy somewhere as you wll end up using them pretty often. \n"
   ]
  },
  {
   "cell_type": "code",
   "execution_count": null,
   "id": "ea5817cf",
   "metadata": {},
   "outputs": [],
   "source": [
    "python -m venv .venv\n",
    "source .venv/bin/activate"
   ]
  },
  {
   "cell_type": "markdown",
   "id": "c8f4c203",
   "metadata": {},
   "source": [
    "You can tell if the virtual environment is active by looking at the first set of brackets in your terminal, once you run the code above it should have a `(.venv)` infront as seen below\n",
    "\n",
    "```\n",
    "(base) logan@Logans-MacBook-Air python-tutorial % python -m venv .venv\n",
    "(base) logan@Logans-MacBook-Air python-tutorial % source .venv/bin/activate\n",
    "(.venv) (base) logan@Logans-MacBook-Air python-tutorial % \n",
    "```"
   ]
  },
  {
   "cell_type": "markdown",
   "id": "5830ad49",
   "metadata": {},
   "source": [
    "Now we can go about installing our third party packages.\n",
    "Also in your console, use the command structure:\n",
    "```\n",
    "pip install *package_name*\n",
    "```\n",
    "For example we will install another math package, `pandas`"
   ]
  },
  {
   "cell_type": "code",
   "execution_count": null,
   "id": "da306c10",
   "metadata": {},
   "outputs": [],
   "source": [
    "pip install pandas"
   ]
  },
  {
   "cell_type": "markdown",
   "id": "ae79303b",
   "metadata": {},
   "source": [
    "One more thing to note about importing packages is that coders often shorten the names of a package. Remember, its all about efficiency. \n",
    "\n",
    "To do this we simply change the import structure to:\n",
    "```\n",
    "import package as short_name\n",
    "```\n",
    "\n",
    "We now use the short name whenever we call a fucntion.\n",
    "\n",
    "See the example below:"
   ]
  },
  {
   "cell_type": "code",
   "execution_count": 6,
   "id": "4f160095",
   "metadata": {},
   "outputs": [
    {
     "data": {
      "text/html": [
       "<div>\n",
       "<style scoped>\n",
       "    .dataframe tbody tr th:only-of-type {\n",
       "        vertical-align: middle;\n",
       "    }\n",
       "\n",
       "    .dataframe tbody tr th {\n",
       "        vertical-align: top;\n",
       "    }\n",
       "\n",
       "    .dataframe thead th {\n",
       "        text-align: right;\n",
       "    }\n",
       "</style>\n",
       "<table border=\"1\" class=\"dataframe\">\n",
       "  <thead>\n",
       "    <tr style=\"text-align: right;\">\n",
       "      <th></th>\n",
       "      <th>1</th>\n",
       "      <th>1.1</th>\n",
       "      <th>1.2</th>\n",
       "      <th>1.3</th>\n",
       "    </tr>\n",
       "  </thead>\n",
       "  <tbody>\n",
       "    <tr>\n",
       "      <th>0</th>\n",
       "      <td>2</td>\n",
       "      <td>2</td>\n",
       "      <td>2</td>\n",
       "      <td>2</td>\n",
       "    </tr>\n",
       "    <tr>\n",
       "      <th>1</th>\n",
       "      <td>3</td>\n",
       "      <td>3</td>\n",
       "      <td>3</td>\n",
       "      <td>3</td>\n",
       "    </tr>\n",
       "  </tbody>\n",
       "</table>\n",
       "</div>"
      ],
      "text/plain": [
       "   1  1.1  1.2  1.3\n",
       "0  2    2    2    2\n",
       "1  3    3    3    3"
      ]
     },
     "execution_count": 6,
     "metadata": {},
     "output_type": "execute_result"
    }
   ],
   "source": [
    "import pandas as pd\n",
    "pd.read_csv('data.csv')"
   ]
  }
 ],
 "metadata": {
  "kernelspec": {
   "display_name": "base",
   "language": "python",
   "name": "python3"
  },
  "language_info": {
   "codemirror_mode": {
    "name": "ipython",
    "version": 3
   },
   "file_extension": ".py",
   "mimetype": "text/x-python",
   "name": "python",
   "nbconvert_exporter": "python",
   "pygments_lexer": "ipython3",
   "version": "3.13.5"
  }
 },
 "nbformat": 4,
 "nbformat_minor": 5
}
